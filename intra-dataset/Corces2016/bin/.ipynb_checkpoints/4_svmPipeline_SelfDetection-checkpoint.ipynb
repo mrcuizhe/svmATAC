{
 "cells": [
  {
   "cell_type": "code",
   "execution_count": 1,
   "metadata": {
    "ExecuteTime": {
     "end_time": "2020-06-08T08:10:17.310272Z",
     "start_time": "2020-06-08T08:10:15.472153Z"
    },
    "scrolled": true
   },
   "outputs": [],
   "source": [
    "import os\n",
    "from sys import argv\n",
    "from pathlib import Path\n",
    "import numpy as np\n",
    "import pandas as pd\n",
    "import time as tm\n",
    "from sklearn.svm import LinearSVC\n",
    "import rpy2.robjects as ro\n",
    "from rpy2.robjects import pandas2ri, numpy2ri\n",
    "from rpy2.robjects.conversion import localconverter\n",
    "from scipy import sparse\n"
   ]
  },
  {
   "cell_type": "code",
   "execution_count": 2,
   "metadata": {
    "ExecuteTime": {
     "end_time": "2020-06-08T08:10:18.646264Z",
     "start_time": "2020-06-08T08:10:17.312904Z"
    }
   },
   "outputs": [],
   "source": [
    "ro.r(\"library(Matrix)\")\n",
    "\n",
    "def dgc_to_csr(r_dgc):\n",
    "    \"\"\"Convert (and transpose) a dgCMatrix from R to a csr_matrix in python\n",
    "    \"\"\"\n",
    "    with localconverter(ro.default_converter + pandas2ri.converter):\n",
    "        X = sparse.csr_matrix(\n",
    "                (\n",
    "                    r_dgc.slots[\"x\"], \n",
    "                    r_dgc.slots[\"i\"], \n",
    "                    r_dgc.slots[\"p\"]\n",
    "                ),\n",
    "                shape=tuple(ro.r(\"dim\")(r_dgc))[::-1]\n",
    "            )\n",
    "    return X"
   ]
  },
  {
   "cell_type": "code",
   "execution_count": 16,
   "metadata": {
    "ExecuteTime": {
     "end_time": "2020-06-08T08:48:43.410906Z",
     "start_time": "2020-06-08T08:48:43.318275Z"
    }
   },
   "outputs": [],
   "source": [
    "def run_SVM(DataPath, LabelsPath, CV_RDataPath, OutputDir):\n",
    "    '''\n",
    "    run baseline classifier: SVM\n",
    "    Wrapper script to run an SVM classifier with a linear kernel on a benchmark dataset with 5-fold cross validation,\n",
    "    outputs lists of true and predicted cell labels as csv files, as well as computation time.\n",
    "    Parameters\n",
    "    ----------\n",
    "    DataPath : Data file path (.csv), cells-genes matrix with cell unique barcodes\n",
    "    as row names and gene names as column names.\n",
    "    LabelsPath : Cell population annotations file path (.csv).\n",
    "    CV_RDataPath : Cross validation RData file path (.RData), obtained from Cross_Validation.R function.\n",
    "    OutputDir : Output directory defining the path of the exported file.\n",
    "    '''\n",
    "\n",
    "    # read the Rdata file\n",
    "    ro.r['load'](CV_RDataPath)\n",
    "\n",
    "    nfolds = np.array(ro.r['n_folds'], dtype = 'int')\n",
    "    tokeep = np.array(ro.r['Cells_to_Keep'], dtype = 'bool')\n",
    "    col = np.array(ro.r['col_Index'], dtype = 'int')\n",
    "    col = col - 1\n",
    "    test_ind =ro.r['Test_Idx']\n",
    "    train_ind =ro.r['Train_Idx']\n",
    "\n",
    "    # read the data\n",
    "    data=ro.r['readRDS'](DataPath)\n",
    "    data=pd.DataFrame(dgc_to_csr(data).toarray()).T\n",
    "    labels = pd.read_csv(LabelsPath, header=0,index_col=None, sep='\\t', usecols = col)\n",
    "    \n",
    "#     print(len(data))\n",
    "#     print(labels)\n",
    "#     print(len(tokeep))\n",
    "    labels = labels.iloc[tokeep]\n",
    "    data = data.iloc[tokeep]\n",
    "\n",
    "    # normalize data\n",
    "    data = np.log1p(data)\n",
    "\n",
    "    Classifier = LinearSVC()\n",
    "\n",
    "    tr_time=[]\n",
    "    ts_time=[]\n",
    "    truelab = []\n",
    "    pred = []\n",
    "    \n",
    "    for i in range(np.squeeze(nfolds)):\n",
    "        test_ind_i = np.array(test_ind[i], dtype = 'int') - 1\n",
    "        train_ind_i = np.array(train_ind[i], dtype = 'int') - 1\n",
    "\n",
    "        train=data.iloc[train_ind_i]\n",
    "        test=data.iloc[test_ind_i]\n",
    "        y_train=labels.iloc[train_ind_i]\n",
    "        y_test=labels.iloc[test_ind_i]\n",
    "\n",
    "        start=tm.time()\n",
    "        Classifier.fit(train, y_train)\n",
    "        tr_time.append(tm.time()-start)\n",
    "\n",
    "        start=tm.time()\n",
    "        predicted = Classifier.predict(test)\n",
    "        ts_time.append(tm.time()-start)\n",
    "\n",
    "        truelab.extend(y_test.values)\n",
    "        pred.extend(predicted)\n",
    "        print(len(pred))\n",
    "\n",
    "    truelab = pd.DataFrame(truelab)\n",
    "    pred = pd.DataFrame(pred)\n",
    "\n",
    "    tr_time = pd.DataFrame(tr_time)\n",
    "    ts_time = pd.DataFrame(ts_time)\n",
    "#     print(len(tr_time))\n",
    "\n",
    "    OutputDir = Path(OutputDir)\n",
    "    os.makedirs(Path(OutputDir),exist_ok=True)\n",
    "    truelab.to_csv(str(OutputDir / Path(\"SVM_true.csv\")),\n",
    "                   index = False)\n",
    "    pred.to_csv(str(OutputDir / Path(\"SVM_pred.csv\")),\n",
    "                index = False)\n",
    "    tr_time.to_csv(str(OutputDir / Path(\"SVM_training_time.csv\")),\n",
    "                   index = False)\n",
    "    ts_time.to_csv(str(OutputDir / Path(\"SVM_test_time.csv\")),\n",
    "                   index = False)"
   ]
  },
  {
   "cell_type": "code",
   "execution_count": null,
   "metadata": {},
   "outputs": [],
   "source": [
    "enhCutOff=0.1\n",
    "intCutOff=0.25\n",
    "\n",
    "if enhCutOff == \"No\":\n",
    "    if intCutOff == \"No\":\n",
    "        run_SVM(\"../input/corces2016-snap-full.rds\", \"../input/metadata_corces2016_sorted.tsv\", \"../tmp/CV_folds.RData\", \"../output/enhNo_intNo\")\n",
    "else:\n",
    "    if intCutOff == \"No\":\n",
    "        run_SVM(\"../output/corces2016-snap-full_enh\"+str(enhCutOff)+\".rds\", \"../input/metadata_corces2016_sorted.tsv\", \"../tmp/CV_folds.RData\", \"../output/enh\"+str(enhCutOff)+\"_intNo\")\n",
    "    else:\n",
    "        run_SVM(\"../output/corces2016-snap-full_enh\"+str(enhCutOff)+\"_int\"+str(intCutOff)+\".rds\", \"../input/metadata_corces2016_sorted.tsv\", \"../tmp/CV_folds.RData\", \"../output/enh\"+str(enhCutOff)+\"_int\"+str(intCutOff))\n"
   ]
  }
 ],
 "metadata": {
  "kernelspec": {
   "display_name": "Python [conda env:ATACseq_SnapATAC]",
   "language": "python",
   "name": "conda-env-ATACseq_SnapATAC-py"
  },
  "language_info": {
   "codemirror_mode": {
    "name": "ipython",
    "version": 3
   },
   "file_extension": ".py",
   "mimetype": "text/x-python",
   "name": "python",
   "nbconvert_exporter": "python",
   "pygments_lexer": "ipython3",
   "version": "3.8.2"
  }
 },
 "nbformat": 4,
 "nbformat_minor": 4
}
