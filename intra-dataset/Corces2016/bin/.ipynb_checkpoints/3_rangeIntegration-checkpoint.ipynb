{
 "cells": [
  {
   "cell_type": "markdown",
   "metadata": {},
   "source": [
    "# run cicero"
   ]
  },
  {
   "cell_type": "code",
   "execution_count": 3,
   "metadata": {
    "ExecuteTime": {
     "end_time": "2020-06-04T05:42:10.433904Z",
     "start_time": "2020-06-04T05:41:39.922Z"
    }
   },
   "outputs": [],
   "source": [
    "cutOff_enhanced<-0.1\n",
    "cutOff_coaccess<-0.25\n",
    "\n",
    "library(Matrix)\n",
    "library(parallel)\n",
    "corces2016Data<-readRDS(paste0(\"../output/corces2016-snap-full_enh\",cutOff_enhanced,\".rds\"))\n",
    "labels<-read.table(\"../input/corces2016_barcode_metadata.tsv\",header = TRUE,sep = \"\\t\",check.names = FALSE)\n",
    "labels<-labels[labels$barcode %in% rownames(corces2016Data),]\n",
    "crn<-readRDS(\"../input/conns_corces2016.rds\")"
   ]
  },
  {
   "cell_type": "code",
   "execution_count": 4,
   "metadata": {
    "ExecuteTime": {
     "end_time": "2020-06-04T05:42:15.099788Z",
     "start_time": "2020-06-04T05:41:42.452Z"
    }
   },
   "outputs": [],
   "source": [
    "positive_crn<-na.omit(crn[crn$coaccess>=cutOff_coaccess,])"
   ]
  },
  {
   "cell_type": "code",
   "execution_count": null,
   "metadata": {},
   "outputs": [],
   "source": [
    "func<-function(label){\n",
    "    barcode<-labels[labels$label == label,]$barcode\n",
    "    cell_data<-corces2016Data[rownames(corces2016Data) %in% barcode,]\n",
    "    nonZeroColumnList_cell<-diff(cell_data@p)/nrow(cell_data)\n",
    "    nonZeroColumnList_cell<-t(as.data.frame(nonZeroColumnList_cell))\n",
    "    colnames(nonZeroColumnList_cell)<-corces2016Data@Dimnames[[2]]\n",
    "    for(i in 1:length(positive_crn$coaccess)){\n",
    "        peak1<-positive_crn$Peak1[i]\n",
    "        peak2<-as.character(positive_crn$Peak2[i])\n",
    "        peak1_split<-strsplit(peak1,split = \"_\")[[1]]\n",
    "        peak1_left<-as.integer(as.integer(peak1_split[2])/5000)*5000+1\n",
    "        peak1_right<-as.integer(as.integer(peak1_split[2])/5000)*5000+5000\n",
    "        peak1<-paste0(peak1_split[1],\":\",peak1_left,\"-\",peak1_right)\n",
    "#         print(peak1)\n",
    "        peak2_split<-strsplit(peak2,split = \"_\")[[1]]\n",
    "        peak2_left<-as.integer(as.integer(peak2_split[2])/5000)*5000+1\n",
    "        peak2_right<-as.integer(as.integer(peak2_split[2])/5000)*5000+5000\n",
    "        peak2<-paste0(peak2_split[1],\":\",peak2_left,\"-\",peak2_right)\n",
    "        if(! peak1 %in% corces2016Data@Dimnames[[2]]){ \n",
    "            next\n",
    "        }\n",
    "        if(! peak2 %in% corces2016Data@Dimnames[[2]]){ \n",
    "                next\n",
    "        }\n",
    "        if(nonZeroColumnList_cell[,peak1]>=cutOff_enhanced){\n",
    "            cell_data[,peak2] = 1  \n",
    "        }\n",
    "        if(nonZeroColumnList_cell[,peak2]>=cutOff_enhanced){\n",
    "            cell_data[,peak1] = 1  \n",
    "        } \n",
    "    }\n",
    "    return(cell_data)\n",
    "}"
   ]
  },
  {
   "cell_type": "code",
   "execution_count": null,
   "metadata": {},
   "outputs": [],
   "source": [
    "cl.cores <- detectCores()\n",
    "cl <- makeCluster(cl.cores-1,type = \"FORK\") \n",
    "results <- parLapply(cl, levels(labels$label),  func)\n",
    "integrated_corces2016Data<-do.call('rbind',results)\n",
    "stopCluster(cl)"
   ]
  },
  {
   "cell_type": "code",
   "execution_count": null,
   "metadata": {},
   "outputs": [],
   "source": [
    "integrated_corces2016Data<-integrated_corces2016Data[order(rownames(integrated_corces2016Data)),]"
   ]
  },
  {
   "cell_type": "code",
   "execution_count": null,
   "metadata": {},
   "outputs": [],
   "source": [
    "saveRDS(integrated_corces2016Data,file =paste0('../output/corces2016-snap-full_enh',cutOff_enhanced,\"_int\",cutOff_coaccess,'.rds'))"
   ]
  },
  {
   "cell_type": "code",
   "execution_count": null,
   "metadata": {},
   "outputs": [],
   "source": []
  }
 ],
 "metadata": {
  "kernelspec": {
   "display_name": "R",
   "language": "R",
   "name": "ir"
  },
  "language_info": {
   "codemirror_mode": "r",
   "file_extension": ".r",
   "mimetype": "text/x-r-source",
   "name": "R",
   "pygments_lexer": "r",
   "version": "4.0.0"
  }
 },
 "nbformat": 4,
 "nbformat_minor": 2
}
