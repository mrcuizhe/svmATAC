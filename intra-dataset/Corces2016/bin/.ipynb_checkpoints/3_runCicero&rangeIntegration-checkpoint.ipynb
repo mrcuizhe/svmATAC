{
 "cells": [
  {
   "cell_type": "markdown",
   "metadata": {},
   "source": [
    "# run cicero"
   ]
  },
  {
   "cell_type": "code",
   "execution_count": 3,
   "metadata": {
    "ExecuteTime": {
     "end_time": "2020-06-04T05:42:10.433904Z",
     "start_time": "2020-06-04T05:41:39.922Z"
    }
   },
   "outputs": [],
   "source": [
    "cutOff_enhanced<-0.1\n",
    "cutOff_coaccess<-0.25\n",
    "\n",
    "library(Matrix)\n",
    "corces2016Data<-readRDS(paste0(\"../output/corces2016-snap-full_enh\",cutOff_enhanced,\".rds\"))\n",
    "labels<-read.table(\"../input/corces2016_barcode_metadata.tsv\",header = TRUE,sep = \"\\t\",check.names = FALSE)\n",
    "\n",
    "crn<-readRDS(\"../input/conns_corces2016.rds\")"
   ]
  },
  {
   "cell_type": "code",
   "execution_count": 4,
   "metadata": {
    "ExecuteTime": {
     "end_time": "2020-06-04T05:42:15.099788Z",
     "start_time": "2020-06-04T05:41:42.452Z"
    }
   },
   "outputs": [],
   "source": [
    "positive_crn<-na.omit(crn[crn$coaccess>=cutOff_coaccess,])\n",
    "enhanced_corces2016Data<-corces2016Data"
   ]
  },
  {
   "cell_type": "code",
   "execution_count": 31,
   "metadata": {
    "ExecuteTime": {
     "end_time": "2020-05-29T11:36:28.196173Z",
     "start_time": "2020-05-29T11:36:28.147Z"
    }
   },
   "outputs": [],
   "source": [
    "success<-0\n",
    "fail<-0\n",
    "total<-0\n",
    "for(label in unique(labels$label)){\n",
    "    barcode<-labels[labels$label == label,]$barcode\n",
    "    cell_data<-enhanced_corces2016Data[rownames(enhanced_corces2016Data) %in% barcode,]\n",
    "    nonZeroColumnList_cell<-diff(cell_data@p)/nrow(cell_data)\n",
    "    nonZeroColumnList_cell<-t(as.data.frame(nonZeroColumnList_cell))\n",
    "    colnames(nonZeroColumnList_cell)<-corces2016Data@Dimnames[[2]]\n",
    "    for(i in 1:length(positive_crn$coaccess)){\n",
    "        peak1<-positive_crn$Peak1[i]\n",
    "        peak2<-as.character(positive_crn$Peak2[i])\n",
    "        peak1_split<-strsplit(peak1,split = \"_\")[[1]]\n",
    "        peak1_left<-as.integer(as.integer(peak1_split[2])/5000)*5000+1\n",
    "        peak1_right<-as.integer(as.integer(peak1_split[2])/5000)*5000+5000\n",
    "        peak1<-paste0(peak1_split[1],\":\",peak1_left,\"-\",peak1_right)\n",
    "#         print(peak1)\n",
    "        peak2_split<-strsplit(peak2,split = \"_\")[[1]]\n",
    "        peak2_left<-as.integer(as.integer(peak2_split[2])/5000)*5000+1\n",
    "        peak2_right<-as.integer(as.integer(peak2_split[2])/5000)*5000+5000\n",
    "        peak2<-paste0(peak2_split[1],\":\",peak2_left,\"-\",peak2_right)\n",
    "        if(! peak1 %in% corces2016Data@Dimnames[[2]]){\n",
    "            fail<-fail+1\n",
    "            print(paste0(label,\":\",i,\"/\",length(positive_crn$coaccess),\" finished, but no peak1 found\"))   \n",
    "            next\n",
    "        }\n",
    "        if(nonZeroColumnList_cell[,peak1]>=cutOff_enhanced){\n",
    "            if(! peak2 %in% corces2016Data@Dimnames[[2]]){\n",
    "                fail<-fail+1\n",
    "                print(paste0(label,\":\",i,\"/\",length(positive_crn$coaccess),\" finished, but no peak2 found\"))   \n",
    "                next\n",
    "            }\n",
    "            enhanced_corces2016Data[rownames(enhanced_corces2016Data) %in% barcode,peak2] = 1\n",
    "            success<-success+1\n",
    "            print(paste0(label,\":\",i,\"/\",length(positive_crn$coaccess),\" finished and successfully integrated!\"))   \n",
    "        }\n",
    "        print(paste0(label,\":\",i,\"/\",length(positive_crn$coaccess),\" finished\"))   \n",
    "    }\n",
    "    total<-total+length(positive_crn$coaccess)\n",
    "}\n",
    "print(paste0(success,\"/\",total,\" succeed, \",fail,\"/\",total,\"failed!\"))"
   ]
  },
  {
   "cell_type": "code",
   "execution_count": null,
   "metadata": {},
   "outputs": [],
   "source": [
    "saveRDS(enhanced_corces2016Data,file =paste0('../output/corces2016-snap-full_enh',cutOff_enhanced,\"_int\",cutOff_coaccess,'.rds'))"
   ]
  },
  {
   "cell_type": "code",
   "execution_count": null,
   "metadata": {},
   "outputs": [],
   "source": []
  }
 ],
 "metadata": {
  "kernelspec": {
   "display_name": "R",
   "language": "R",
   "name": "ir"
  },
  "language_info": {
   "codemirror_mode": "r",
   "file_extension": ".r",
   "mimetype": "text/x-r-source",
   "name": "R",
   "pygments_lexer": "r",
   "version": "4.0.0"
  }
 },
 "nbformat": 4,
 "nbformat_minor": 2
}
