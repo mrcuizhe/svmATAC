{
 "cells": [
  {
   "cell_type": "code",
   "execution_count": 20,
   "metadata": {
    "ExecuteTime": {
     "end_time": "2020-06-05T03:39:58.633760Z",
     "start_time": "2020-06-05T03:39:58.016Z"
    }
   },
   "outputs": [],
   "source": [
    "cutOff<-0.3\n",
    "\n",
    "library(Matrix)\n",
    "library(parallel)\n",
    "corces2016Data<-readRDS(\"../input/corces2016-snap-full.rds\")\n",
    "labels<-read.table(\"../input/corces2016_barcode_metadata.tsv\",header = TRUE,sep = \"\\t\",check.names = FALSE)"
   ]
  },
  {
   "cell_type": "code",
   "execution_count": 21,
   "metadata": {
    "ExecuteTime": {
     "end_time": "2020-06-05T03:39:58.648817Z",
     "start_time": "2020-06-05T03:39:58.200Z"
    }
   },
   "outputs": [],
   "source": [
    "labels<-labels[labels$barcode %in% rownames(corces2016Data),]"
   ]
  },
  {
   "cell_type": "code",
   "execution_count": 23,
   "metadata": {
    "ExecuteTime": {
     "end_time": "2020-06-05T03:39:58.842388Z",
     "start_time": "2020-06-05T03:39:58.828Z"
    }
   },
   "outputs": [],
   "source": [
    "func<-function(label){\n",
    "    barcode<-labels[labels$label == label,]$barcode\n",
    "    cell_data<-corces2016Data[rownames(corces2016Data) %in% barcode,]\n",
    "    nonZeroColumnList_cell<-diff(cell_data@p)/nrow(cell_data)\n",
    "    candidateRange<-which(nonZeroColumnList_cell>=cutOff)\n",
    "    for(i in candidateRange){\n",
    "        cell_data[,i] = 1\n",
    "    }\n",
    "    return(cell_data)\n",
    "}"
   ]
  },
  {
   "cell_type": "code",
   "execution_count": 24,
   "metadata": {
    "ExecuteTime": {
     "end_time": "2020-06-05T03:40:04.395453Z",
     "start_time": "2020-06-05T03:39:59.532Z"
    },
    "scrolled": true
   },
   "outputs": [],
   "source": [
    "cl.cores <- detectCores()\n",
    "cl <- makeCluster(cl.cores-1,type = \"FORK\") \n",
    "results <- parLapply(cl, levels(labels$label),  func)\n",
    "enhanced_corces2016Data<-do.call('rbind',results)\n",
    "stopCluster(cl)\n",
    "saveRDS(enhanced_corces2016Data,file = paste0('../output/corces2016-snap-full_enh',cutOff,'.rds'))"
   ]
  }
 ],
 "metadata": {
  "kernelspec": {
   "display_name": "R [conda env:ATACseq_SnapATAC]",
   "language": "R",
   "name": "conda-env-ATACseq_SnapATAC-r"
  },
  "language_info": {
   "codemirror_mode": "r",
   "file_extension": ".r",
   "mimetype": "text/x-r-source",
   "name": "R",
   "pygments_lexer": "r",
   "version": "3.5.1"
  }
 },
 "nbformat": 4,
 "nbformat_minor": 2
}
