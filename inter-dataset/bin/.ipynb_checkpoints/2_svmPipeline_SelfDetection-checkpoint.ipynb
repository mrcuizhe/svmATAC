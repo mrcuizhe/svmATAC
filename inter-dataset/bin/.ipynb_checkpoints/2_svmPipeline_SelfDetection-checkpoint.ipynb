{
 "cells": [
  {
   "cell_type": "code",
   "execution_count": 2,
   "metadata": {
    "ExecuteTime": {
     "end_time": "2020-06-10T03:15:41.741532Z",
     "start_time": "2020-06-10T03:15:40.514262Z"
    },
    "scrolled": true
   },
   "outputs": [],
   "source": [
    "import os\n",
    "from sys import argv\n",
    "from pathlib import Path\n",
    "import numpy as np\n",
    "import pandas as pd\n",
    "import time as tm\n",
    "from sklearn.svm import LinearSVC\n",
    "import rpy2.robjects as ro\n",
    "from rpy2.robjects import pandas2ri, numpy2ri\n",
    "from rpy2.robjects.conversion import localconverter\n",
    "from scipy import sparse\n"
   ]
  },
  {
   "cell_type": "code",
   "execution_count": 3,
   "metadata": {
    "ExecuteTime": {
     "end_time": "2020-06-10T03:15:42.485297Z",
     "start_time": "2020-06-10T03:15:41.743290Z"
    }
   },
   "outputs": [],
   "source": [
    "ro.r(\"library(Matrix)\")\n",
    "\n",
    "def dgc_to_csr(r_dgc):\n",
    "    \"\"\"Convert (and transpose) a dgCMatrix from R to a csr_matrix in python\n",
    "    \"\"\"\n",
    "    with localconverter(ro.default_converter + pandas2ri.converter):\n",
    "        X = sparse.csr_matrix(\n",
    "                (\n",
    "                    r_dgc.slots[\"x\"], \n",
    "                    r_dgc.slots[\"i\"], \n",
    "                    r_dgc.slots[\"p\"]\n",
    "                ),\n",
    "                shape=tuple(ro.r(\"dim\")(r_dgc))[::-1]\n",
    "            )\n",
    "    return X"
   ]
  },
  {
   "cell_type": "code",
   "execution_count": 6,
   "metadata": {
    "ExecuteTime": {
     "end_time": "2020-06-10T03:16:10.326876Z",
     "start_time": "2020-06-10T03:16:10.313136Z"
    }
   },
   "outputs": [],
   "source": [
    "def run_SVM(trainDataPath,testDataPath, trainLabelsPath,testLabelsPath, CV_RDataPath, OutputDir):\n",
    "    '''\n",
    "    run baseline classifier: SVM\n",
    "    Wrapper script to run an SVM classifier with a linear kernel on a benchmark dataset with 5-fold cross validation,\n",
    "    outputs lists of true and predicted cell labels as csv files, as well as computation time.\n",
    "    Parameters\n",
    "    ----------\n",
    "    DataPath : Data file path (.csv), cells-genes matrix with cell unique barcodes\n",
    "    as row names and gene names as column names.\n",
    "    LabelsPath : Cell population annotations file path (.csv).\n",
    "    CV_RDataPath : Cross validation RData file path (.RData), obtained from Cross_Validation.R function.\n",
    "    OutputDir : Output directory defining the path of the exported file.\n",
    "    '''\n",
    "\n",
    "    # read the Rdata file\n",
    "    ro.r['load'](CV_RDataPath)\n",
    "\n",
    "    tokeep_train = np.array(ro.r['Cells_to_Keep_train'], dtype = 'bool')\n",
    "    tokeep_test = np.array(ro.r['Cells_to_Keep_test'], dtype = 'bool')\n",
    "    col = np.array(ro.r['col_Index'], dtype = 'int')\n",
    "    col = col - 1\n",
    "    test_ind =ro.r['Test_Idx']\n",
    "    train_ind =ro.r['Train_Idx']\n",
    "\n",
    "    # read the data\n",
    "    data_train=ro.r['readRDS'](trainDataPath)\n",
    "    data_train=pd.DataFrame(dgc_to_csr(data_train).toarray()).T\n",
    "    \n",
    "    data_test=ro.r['readRDS'](testDataPath)\n",
    "    data_test=pd.DataFrame(dgc_to_csr(data_test).toarray()).T\n",
    "    \n",
    "    labels_train = pd.read_csv(trainLabelsPath, header=0,index_col=None, sep='\\t', usecols = col)\n",
    "    labels_test = pd.read_csv(testLabelsPath, header=0,index_col=None, sep='\\t', usecols = col)\n",
    "    \n",
    "#     print(len(data))\n",
    "#     print(labels)\n",
    "#     print(len(tokeep))\n",
    "    labels_train = labels_train.iloc[tokeep_train]\n",
    "    labels_test = labels_test.iloc[tokeep_test]\n",
    "    data_train = data_train.iloc[tokeep_train]\n",
    "    data_test = data_test.iloc[tokeep_test]\n",
    "\n",
    "    # normalize data\n",
    "    data_train = np.log1p(data_train)\n",
    "    data_test = np.log1p(data_test)\n",
    "\n",
    "    Classifier = LinearSVC()\n",
    "\n",
    "    tr_time=[]\n",
    "    ts_time=[]\n",
    "    truelab = []\n",
    "    pred = []\n",
    "    \n",
    "    test_ind = np.array(test_ind, dtype = 'int') - 1\n",
    "    train_ind = np.array(train_ind, dtype = 'int') - 1\n",
    "\n",
    "    train=data_train.iloc[train_ind]\n",
    "    test=data_test.iloc[test_ind]\n",
    "    y_train=labels_train.iloc[train_ind]\n",
    "    y_test=labels_test.iloc[test_ind]\n",
    "\n",
    "    start=tm.time()\n",
    "    Classifier.fit(train, y_train)\n",
    "    tr_time.append(tm.time()-start)\n",
    "\n",
    "    start=tm.time()\n",
    "    predicted = Classifier.predict(test)\n",
    "    ts_time.append(tm.time()-start)\n",
    "\n",
    "    truelab.extend(y_test.values)\n",
    "    pred.extend(predicted)\n",
    "\n",
    "    truelab = pd.DataFrame(truelab)\n",
    "    pred = pd.DataFrame(pred)\n",
    "\n",
    "    tr_time = pd.DataFrame(tr_time)\n",
    "    ts_time = pd.DataFrame(ts_time)\n",
    "#     print(len(tr_time))\n",
    "\n",
    "    OutputDir = Path(OutputDir)\n",
    "    os.makedirs(Path(OutputDir),exist_ok=True)\n",
    "    truelab.to_csv(str(OutputDir / Path(\"SVM_true.csv\")),\n",
    "                   index = False)\n",
    "    pred.to_csv(str(OutputDir / Path(\"SVM_pred.csv\")),\n",
    "                index = False)\n",
    "    tr_time.to_csv(str(OutputDir / Path(\"SVM_training_time.csv\")),\n",
    "                   index = False)\n",
    "    ts_time.to_csv(str(OutputDir / Path(\"SVM_test_time.csv\")),\n",
    "                   index = False)"
   ]
  },
  {
   "cell_type": "code",
   "execution_count": 26,
   "metadata": {
    "ExecuteTime": {
     "end_time": "2020-06-10T03:28:39.387320Z",
     "start_time": "2020-06-10T03:27:30.395565Z"
    }
   },
   "outputs": [
    {
     "name": "stderr",
     "output_type": "stream",
     "text": [
      "/Users/cuizhe/anaconda3/envs/ATACseq_SnapATAC/lib/python3.8/site-packages/sklearn/utils/validation.py:760: DataConversionWarning: A column-vector y was passed when a 1d array was expected. Please change the shape of y to (n_samples, ), for example using ravel().\n",
      "  y = column_or_1d(y, warn=True)\n"
     ]
    }
   ],
   "source": [
    "enhCutOff=\"No\"\n",
    "intCutOff=\"No\"\n",
    "\n",
    "if enhCutOff == \"No\":\n",
    "    if intCutOff == \"No\":\n",
    "        run_SVM(\"../input/enhNo_intNo/corces2016-snap-full.rds\",\"../input/enhNo_intNo/buenrostro2018-snap-full.rds\", \"../input/metadata_corces2016_sorted.tsv\",\"../input/metadata_buenrostro2018_sorted.tsv\", \"../tmp/CV_folds_corces2016train_buenrostro2018-LMPPtest.RData\", \"../output/enhNo_intNo\")\n",
    "else:\n",
    "    if intCutOff == \"No\":\n",
    "        run_SVM(\"../input/enh\"+str(enhCutOff)+\"_intNo/corces2016-snap-full_enh\"+str(enhCutOff)+\".rds\",\"../input/enh\"+str(enhCutOff)+\"_intNo/buenrostro2018-snap-full_enh\"+str(enhCutOff)+\".rds\", \"../input/metadata_corces2016_sorted.tsv\",\"../input/metadata_buenrostro2018_sorted.tsv\", \"../tmp/CV_folds_corces2016train_buenrostro2018-LMPPtest.RData\", \"../output/enh\"+str(enhCutOff)+\"_intNo\")\n",
    "    else:\n",
    "        run_SVM(\"../input/enh\"+str(enhCutOff)+\"_int\"+str(intCutOff)+\"/corces2016-snap-full_enh\"+str(enhCutOff)+\"_int\"+str(intCutOff)+\".rds\",\"../input/enh\"+str(enhCutOff)+\"_int\"+str(intCutOff)+\"/buenrostro2018-snap-full_enh\"+str(enhCutOff)+\"_int\"+str(intCutOff)+\".rds\", \"../input/metadata_corces2016_sorted.tsv\",\"../input/metadata_buenrostro2018_sorted.tsv\", \"../tmp/CV_folds_corces2016train_buenrostro2018-LMPPtest.RData\", \"../output/enh\"+str(enhCutOff)+\"_int\"+str(intCutOff))\n"
   ]
  },
  {
   "cell_type": "code",
   "execution_count": 31,
   "metadata": {
    "ExecuteTime": {
     "end_time": "2020-06-10T03:33:20.202763Z",
     "start_time": "2020-06-10T03:33:20.195001Z"
    }
   },
   "outputs": [
    {
     "ename": "SyntaxError",
     "evalue": "unmatched ')' (<ipython-input-31-1cc1215e886b>, line 9)",
     "output_type": "error",
     "traceback": [
      "\u001b[0;36m  File \u001b[0;32m\"<ipython-input-31-1cc1215e886b>\"\u001b[0;36m, line \u001b[0;32m9\u001b[0m\n\u001b[0;31m    run_SVM(\"../input/enh\"+str(enhCutOff)+\"_intNo/corces2016-snap-full_enh\"+str(enhCutOff)+\".rds\",\"../input/enh\"+str(enhCutOff)+\"_intNo/buenrostro2018-snap-full_enh\"+str(enhCutOff)+\".rds\"), \"../input/metadata_corces2016_sorted.tsv\",\"../input/metadata_buenrostro2018_sorted.tsv\", \"../tmp/CV_folds_corces2016train_buenrostro2018-LMPPtest.RData\", \"../output/enh\"+str(enhCutOff)+\"_intNo\")\u001b[0m\n\u001b[0m                                                                                                                                                                                                                                                                                                                                                                                               ^\u001b[0m\n\u001b[0;31mSyntaxError\u001b[0m\u001b[0;31m:\u001b[0m unmatched ')'\n"
     ]
    }
   ],
   "source": [
    "enhCutOff=0.1\n",
    "intCutOff=\"No\"\n",
    "\n",
    "if enhCutOff == \"No\":\n",
    "    if intCutOff == \"No\":\n",
    "        run_SVM(\"../input/enhNo_intNo/corces2016-snap-full.rds\",\"../input/enhNo_intNo/buenrostro2018-snap-full.rds\", \"../input/metadata_corces2016_sorted.tsv\",\"../input/metadata_buenrostro2018_sorted.tsv\", \"../tmp/CV_folds_corces2016train_buenrostro2018-LMPPtest.RData\", \"../output/enhNo_intNo\")\n",
    "else:\n",
    "    if intCutOff == \"No\":\n",
    "        run_SVM(\"../input/enh\"+str(enhCutOff)+\"_intNo/corces2016-snap-full_enh\"+str(enhCutOff)+\".rds\",\"../input/enh\"+str(enhCutOff)+\"_intNo/buenrostro2018-snap-full_enh\"+str(enhCutOff)+\".rds\", \"../input/metadata_corces2016_sorted.tsv\",\"../input/metadata_buenrostro2018_sorted.tsv\", \"../tmp/CV_folds_corces2016train_buenrostro2018-LMPPtest.RData\", \"../output/enh\"+str(enhCutOff)+\"_intNo\")\n",
    "    else:\n",
    "        run_SVM(\"../input/enh\"+str(enhCutOff)+\"_int\"+str(intCutOff)+\"/corces2016-snap-full_enh\"+str(enhCutOff)+\"_int\"+str(intCutOff)+\".rds\",\"../input/enh\"+str(enhCutOff)+\"_int\"+str(intCutOff)+\"/buenrostro2018-snap-full_enh\"+str(enhCutOff)+\"_int\"+str(intCutOff)+\".rds\", \"../input/metadata_corces2016_sorted.tsv\",\"../input/metadata_buenrostro2018_sorted.tsv\", \"../tmp/CV_folds_corces2016train_buenrostro2018-LMPPtest.RData\", \"../output/enh\"+str(enhCutOff)+\"_int\"+str(intCutOff))\n"
   ]
  },
  {
   "cell_type": "code",
   "execution_count": null,
   "metadata": {
    "ExecuteTime": {
     "end_time": "2020-06-10T03:28:39.442253Z",
     "start_time": "2020-06-10T03:27:31.423Z"
    }
   },
   "outputs": [],
   "source": [
    "enhCutOff=0.2\n",
    "intCutOff=\"No\"\n",
    "\n",
    "if enhCutOff == \"No\":\n",
    "    if intCutOff == \"No\":\n",
    "        run_SVM(\"../input/enhNo_intNo/corces2016-snap-full.rds\",\"../input/enhNo_intNo/buenrostro2018-snap-full.rds\", \"../input/metadata_corces2016_sorted.tsv\",\"../input/metadata_buenrostro2018_sorted.tsv\", \"../tmp/CV_folds_corces2016train_buenrostro2018-LMPPtest.RData\", \"../output/enhNo_intNo\")\n",
    "else:\n",
    "    if intCutOff == \"No\":\n",
    "        run_SVM(paste0(\"../input/enh\",enhCutOff,\"_intNo/corces2016-snap-full_enh\",enhCutOff,\".rds\"),paste0(\"../input/enh\",enhCutOff,\"_intNo/buenrostro2018-snap-full_enh\",enhCutOff,\".rds\"), \"../input/metadata_corces2016_sorted.tsv\",\"../input/metadata_buenrostro2018_sorted.tsv\", \"../tmp/CV_folds_corces2016train_buenrostro2018-LMPPtest.RData\", paste0(\"../output/enh\",enhCutOff,\"_intNo\"))\n",
    "    else:\n",
    "        run_SVM(paste0(\"../input/enh\",enhCutOff,\"_int\",intCutOff,\"/corces2016-snap-full_enh\",enhCutOff,\"_int\",intCutOff,\".rds\"),paste0(\"../input/enh\",enhCutOff,\"_int\",intCutOff,\"/buenrostro2018-snap-full_enh\",enhCutOff,\"_int\",intCutOff,\".rds\"), \"../input/metadata_corces2016_sorted.tsv\",\"../input/metadata_buenrostro2018_sorted.tsv\", \"../tmp/CV_folds_corces2016train_buenrostro2018-LMPPtest.RData\", paste0(\"../output/enh\",enhCutOff,\"_int\",intCutOff))\n"
   ]
  },
  {
   "cell_type": "code",
   "execution_count": null,
   "metadata": {
    "ExecuteTime": {
     "end_time": "2020-06-10T03:28:39.444895Z",
     "start_time": "2020-06-10T03:27:31.935Z"
    }
   },
   "outputs": [],
   "source": [
    "enhCutOff=0.3\n",
    "intCutOff=\"No\"\n",
    "\n",
    "if enhCutOff == \"No\":\n",
    "    if intCutOff == \"No\":\n",
    "        run_SVM(\"../input/enhNo_intNo/corces2016-snap-full.rds\",\"../input/enhNo_intNo/buenrostro2018-snap-full.rds\", \"../input/metadata_corces2016_sorted.tsv\",\"../input/metadata_buenrostro2018_sorted.tsv\", \"../tmp/CV_folds_corces2016train_buenrostro2018-LMPPtest.RData\", \"../output/enhNo_intNo\")\n",
    "else:\n",
    "    if intCutOff == \"No\":\n",
    "        run_SVM(paste0(\"../input/enh\",enhCutOff,\"_intNo/corces2016-snap-full_enh\",enhCutOff,\".rds\"),paste0(\"../input/enh\",enhCutOff,\"_intNo/buenrostro2018-snap-full_enh\",enhCutOff,\".rds\"), \"../input/metadata_corces2016_sorted.tsv\",\"../input/metadata_buenrostro2018_sorted.tsv\", \"../tmp/CV_folds_corces2016train_buenrostro2018-LMPPtest.RData\", paste0(\"../output/enh\",enhCutOff,\"_intNo\"))\n",
    "    else:\n",
    "        run_SVM(paste0(\"../input/enh\",enhCutOff,\"_int\",intCutOff,\"/corces2016-snap-full_enh\",enhCutOff,\"_int\",intCutOff,\".rds\"),paste0(\"../input/enh\",enhCutOff,\"_int\",intCutOff,\"/buenrostro2018-snap-full_enh\",enhCutOff,\"_int\",intCutOff,\".rds\"), \"../input/metadata_corces2016_sorted.tsv\",\"../input/metadata_buenrostro2018_sorted.tsv\", \"../tmp/CV_folds_corces2016train_buenrostro2018-LMPPtest.RData\", paste0(\"../output/enh\",enhCutOff,\"_int\",intCutOff))\n"
   ]
  },
  {
   "cell_type": "code",
   "execution_count": null,
   "metadata": {
    "ExecuteTime": {
     "end_time": "2020-06-10T03:28:39.446286Z",
     "start_time": "2020-06-10T03:27:33.967Z"
    }
   },
   "outputs": [],
   "source": [
    "enhCutOff=0.3\n",
    "intCutOff=0.75\n",
    "\n",
    "if enhCutOff == \"No\":\n",
    "    if intCutOff == \"No\":\n",
    "        run_SVM(\"../input/enhNo_intNo/corces2016-snap-full.rds\",\"../input/enhNo_intNo/buenrostro2018-snap-full.rds\", \"../input/metadata_corces2016_sorted.tsv\",\"../input/metadata_buenrostro2018_sorted.tsv\", \"../tmp/CV_folds_corces2016train_buenrostro2018-LMPPtest.RData\", \"../output/enhNo_intNo\")\n",
    "else:\n",
    "    if intCutOff == \"No\":\n",
    "        run_SVM(paste0(\"../input/enh\",enhCutOff,\"_intNo/corces2016-snap-full_enh\",enhCutOff,\".rds\"),paste0(\"../input/enh\",enhCutOff,\"_intNo/buenrostro2018-snap-full_enh\",enhCutOff,\".rds\"), \"../input/metadata_corces2016_sorted.tsv\",\"../input/metadata_buenrostro2018_sorted.tsv\", \"../tmp/CV_folds_corces2016train_buenrostro2018-LMPPtest.RData\", paste0(\"../output/enh\",enhCutOff,\"_intNo\"))\n",
    "    else:\n",
    "        run_SVM(paste0(\"../input/enh\",enhCutOff,\"_int\",intCutOff,\"/corces2016-snap-full_enh\",enhCutOff,\"_int\",intCutOff,\".rds\"),paste0(\"../input/enh\",enhCutOff,\"_int\",intCutOff,\"/buenrostro2018-snap-full_enh\",enhCutOff,\"_int\",intCutOff,\".rds\"), \"../input/metadata_corces2016_sorted.tsv\",\"../input/metadata_buenrostro2018_sorted.tsv\", \"../tmp/CV_folds_corces2016train_buenrostro2018-LMPPtest.RData\", paste0(\"../output/enh\",enhCutOff,\"_int\",intCutOff))\n"
   ]
  },
  {
   "cell_type": "code",
   "execution_count": null,
   "metadata": {
    "ExecuteTime": {
     "end_time": "2020-06-10T03:28:39.447354Z",
     "start_time": "2020-06-10T03:27:36.214Z"
    }
   },
   "outputs": [],
   "source": [
    "enhCutOff=0.3\n",
    "intCutOff=0.5\n",
    "\n",
    "if enhCutOff == \"No\":\n",
    "    if intCutOff == \"No\":\n",
    "        run_SVM(\"../input/enhNo_intNo/corces2016-snap-full.rds\",\"../input/enhNo_intNo/buenrostro2018-snap-full.rds\", \"../input/metadata_corces2016_sorted.tsv\",\"../input/metadata_buenrostro2018_sorted.tsv\", \"../tmp/CV_folds_corces2016train_buenrostro2018-LMPPtest.RData\", \"../output/enhNo_intNo\")\n",
    "else:\n",
    "    if intCutOff == \"No\":\n",
    "        run_SVM(paste0(\"../input/enh\",enhCutOff,\"_intNo/corces2016-snap-full_enh\",enhCutOff,\".rds\"),paste0(\"../input/enh\",enhCutOff,\"_intNo/buenrostro2018-snap-full_enh\",enhCutOff,\".rds\"), \"../input/metadata_corces2016_sorted.tsv\",\"../input/metadata_buenrostro2018_sorted.tsv\", \"../tmp/CV_folds_corces2016train_buenrostro2018-LMPPtest.RData\", paste0(\"../output/enh\",enhCutOff,\"_intNo\"))\n",
    "    else:\n",
    "        run_SVM(paste0(\"../input/enh\",enhCutOff,\"_int\",intCutOff,\"/corces2016-snap-full_enh\",enhCutOff,\"_int\",intCutOff,\".rds\"),paste0(\"../input/enh\",enhCutOff,\"_int\",intCutOff,\"/buenrostro2018-snap-full_enh\",enhCutOff,\"_int\",intCutOff,\".rds\"), \"../input/metadata_corces2016_sorted.tsv\",\"../input/metadata_buenrostro2018_sorted.tsv\", \"../tmp/CV_folds_corces2016train_buenrostro2018-LMPPtest.RData\", paste0(\"../output/enh\",enhCutOff,\"_int\",intCutOff))\n"
   ]
  },
  {
   "cell_type": "code",
   "execution_count": null,
   "metadata": {
    "ExecuteTime": {
     "end_time": "2020-06-10T03:28:39.449186Z",
     "start_time": "2020-06-10T03:27:39.631Z"
    }
   },
   "outputs": [],
   "source": [
    "enhCutOff=0.3\n",
    "intCutOff=0.25\n",
    "\n",
    "if enhCutOff == \"No\":\n",
    "    if intCutOff == \"No\":\n",
    "        run_SVM(\"../input/enhNo_intNo/corces2016-snap-full.rds\",\"../input/enhNo_intNo/buenrostro2018-snap-full.rds\", \"../input/metadata_corces2016_sorted.tsv\",\"../input/metadata_buenrostro2018_sorted.tsv\", \"../tmp/CV_folds_corces2016train_buenrostro2018-LMPPtest.RData\", \"../output/enhNo_intNo\")\n",
    "else:\n",
    "    if intCutOff == \"No\":\n",
    "        run_SVM(paste0(\"../input/enh\",enhCutOff,\"_intNo/corces2016-snap-full_enh\",enhCutOff,\".rds\"),paste0(\"../input/enh\",enhCutOff,\"_intNo/buenrostro2018-snap-full_enh\",enhCutOff,\".rds\"), \"../input/metadata_corces2016_sorted.tsv\",\"../input/metadata_buenrostro2018_sorted.tsv\", \"../tmp/CV_folds_corces2016train_buenrostro2018-LMPPtest.RData\", paste0(\"../output/enh\",enhCutOff,\"_intNo\"))\n",
    "    else:\n",
    "        run_SVM(paste0(\"../input/enh\",enhCutOff,\"_int\",intCutOff,\"/corces2016-snap-full_enh\",enhCutOff,\"_int\",intCutOff,\".rds\"),paste0(\"../input/enh\",enhCutOff,\"_int\",intCutOff,\"/buenrostro2018-snap-full_enh\",enhCutOff,\"_int\",intCutOff,\".rds\"), \"../input/metadata_corces2016_sorted.tsv\",\"../input/metadata_buenrostro2018_sorted.tsv\", \"../tmp/CV_folds_corces2016train_buenrostro2018-LMPPtest.RData\", paste0(\"../output/enh\",enhCutOff,\"_int\",intCutOff))\n"
   ]
  },
  {
   "cell_type": "code",
   "execution_count": null,
   "metadata": {
    "ExecuteTime": {
     "end_time": "2020-06-10T03:28:39.450226Z",
     "start_time": "2020-06-10T03:27:40.562Z"
    }
   },
   "outputs": [],
   "source": [
    "enhCutOff=0.2\n",
    "intCutOff=0.75\n",
    "\n",
    "if enhCutOff == \"No\":\n",
    "    if intCutOff == \"No\":\n",
    "        run_SVM(\"../input/enhNo_intNo/corces2016-snap-full.rds\",\"../input/enhNo_intNo/buenrostro2018-snap-full.rds\", \"../input/metadata_corces2016_sorted.tsv\",\"../input/metadata_buenrostro2018_sorted.tsv\", \"../tmp/CV_folds_corces2016train_buenrostro2018-LMPPtest.RData\", \"../output/enhNo_intNo\")\n",
    "else:\n",
    "    if intCutOff == \"No\":\n",
    "        run_SVM(paste0(\"../input/enh\",enhCutOff,\"_intNo/corces2016-snap-full_enh\",enhCutOff,\".rds\"),paste0(\"../input/enh\",enhCutOff,\"_intNo/buenrostro2018-snap-full_enh\",enhCutOff,\".rds\"), \"../input/metadata_corces2016_sorted.tsv\",\"../input/metadata_buenrostro2018_sorted.tsv\", \"../tmp/CV_folds_corces2016train_buenrostro2018-LMPPtest.RData\", paste0(\"../output/enh\",enhCutOff,\"_intNo\"))\n",
    "    else:\n",
    "        run_SVM(paste0(\"../input/enh\",enhCutOff,\"_int\",intCutOff,\"/corces2016-snap-full_enh\",enhCutOff,\"_int\",intCutOff,\".rds\"),paste0(\"../input/enh\",enhCutOff,\"_int\",intCutOff,\"/buenrostro2018-snap-full_enh\",enhCutOff,\"_int\",intCutOff,\".rds\"), \"../input/metadata_corces2016_sorted.tsv\",\"../input/metadata_buenrostro2018_sorted.tsv\", \"../tmp/CV_folds_corces2016train_buenrostro2018-LMPPtest.RData\", paste0(\"../output/enh\",enhCutOff,\"_int\",intCutOff))\n"
   ]
  },
  {
   "cell_type": "code",
   "execution_count": null,
   "metadata": {
    "ExecuteTime": {
     "end_time": "2020-06-10T03:28:39.451299Z",
     "start_time": "2020-06-10T03:27:43.557Z"
    }
   },
   "outputs": [],
   "source": [
    "enhCutOff=0.2\n",
    "intCutOff=0.5\n",
    "\n",
    "if enhCutOff == \"No\":\n",
    "    if intCutOff == \"No\":\n",
    "        run_SVM(\"../input/enhNo_intNo/corces2016-snap-full.rds\",\"../input/enhNo_intNo/buenrostro2018-snap-full.rds\", \"../input/metadata_corces2016_sorted.tsv\",\"../input/metadata_buenrostro2018_sorted.tsv\", \"../tmp/CV_folds_corces2016train_buenrostro2018-LMPPtest.RData\", \"../output/enhNo_intNo\")\n",
    "else:\n",
    "    if intCutOff == \"No\":\n",
    "        run_SVM(paste0(\"../input/enh\",enhCutOff,\"_intNo/corces2016-snap-full_enh\",enhCutOff,\".rds\"),paste0(\"../input/enh\",enhCutOff,\"_intNo/buenrostro2018-snap-full_enh\",enhCutOff,\".rds\"), \"../input/metadata_corces2016_sorted.tsv\",\"../input/metadata_buenrostro2018_sorted.tsv\", \"../tmp/CV_folds_corces2016train_buenrostro2018-LMPPtest.RData\", paste0(\"../output/enh\",enhCutOff,\"_intNo\"))\n",
    "    else:\n",
    "        run_SVM(paste0(\"../input/enh\",enhCutOff,\"_int\",intCutOff,\"/corces2016-snap-full_enh\",enhCutOff,\"_int\",intCutOff,\".rds\"),paste0(\"../input/enh\",enhCutOff,\"_int\",intCutOff,\"/buenrostro2018-snap-full_enh\",enhCutOff,\"_int\",intCutOff,\".rds\"), \"../input/metadata_corces2016_sorted.tsv\",\"../input/metadata_buenrostro2018_sorted.tsv\", \"../tmp/CV_folds_corces2016train_buenrostro2018-LMPPtest.RData\", paste0(\"../output/enh\",enhCutOff,\"_int\",intCutOff))\n"
   ]
  },
  {
   "cell_type": "code",
   "execution_count": null,
   "metadata": {
    "ExecuteTime": {
     "end_time": "2020-06-10T03:28:39.452434Z",
     "start_time": "2020-06-10T03:27:54.681Z"
    }
   },
   "outputs": [],
   "source": [
    "enhCutOff=0.2\n",
    "intCutOff=0.25\n",
    "\n",
    "if enhCutOff == \"No\":\n",
    "    if intCutOff == \"No\":\n",
    "        run_SVM(\"../input/enhNo_intNo/corces2016-snap-full.rds\",\"../input/enhNo_intNo/buenrostro2018-snap-full.rds\", \"../input/metadata_corces2016_sorted.tsv\",\"../input/metadata_buenrostro2018_sorted.tsv\", \"../tmp/CV_folds_corces2016train_buenrostro2018-LMPPtest.RData\", \"../output/enhNo_intNo\")\n",
    "else:\n",
    "    if intCutOff == \"No\":\n",
    "        run_SVM(paste0(\"../input/enh\",enhCutOff,\"_intNo/corces2016-snap-full_enh\",enhCutOff,\".rds\"),paste0(\"../input/enh\",enhCutOff,\"_intNo/buenrostro2018-snap-full_enh\",enhCutOff,\".rds\"), \"../input/metadata_corces2016_sorted.tsv\",\"../input/metadata_buenrostro2018_sorted.tsv\", \"../tmp/CV_folds_corces2016train_buenrostro2018-LMPPtest.RData\", paste0(\"../output/enh\",enhCutOff,\"_intNo\"))\n",
    "    else:\n",
    "        run_SVM(paste0(\"../input/enh\",enhCutOff,\"_int\",intCutOff,\"/corces2016-snap-full_enh\",enhCutOff,\"_int\",intCutOff,\".rds\"),paste0(\"../input/enh\",enhCutOff,\"_int\",intCutOff,\"/buenrostro2018-snap-full_enh\",enhCutOff,\"_int\",intCutOff,\".rds\"), \"../input/metadata_corces2016_sorted.tsv\",\"../input/metadata_buenrostro2018_sorted.tsv\", \"../tmp/CV_folds_corces2016train_buenrostro2018-LMPPtest.RData\", paste0(\"../output/enh\",enhCutOff,\"_int\",intCutOff))\n"
   ]
  },
  {
   "cell_type": "code",
   "execution_count": null,
   "metadata": {
    "ExecuteTime": {
     "end_time": "2020-06-10T03:28:39.455548Z",
     "start_time": "2020-06-10T03:28:01.090Z"
    }
   },
   "outputs": [],
   "source": [
    "enhCutOff=0.1\n",
    "intCutOff=0.75\n",
    "\n",
    "if enhCutOff == \"No\":\n",
    "    if intCutOff == \"No\":\n",
    "        run_SVM(\"../input/enhNo_intNo/corces2016-snap-full.rds\",\"../input/enhNo_intNo/buenrostro2018-snap-full.rds\", \"../input/metadata_corces2016_sorted.tsv\",\"../input/metadata_buenrostro2018_sorted.tsv\", \"../tmp/CV_folds_corces2016train_buenrostro2018-LMPPtest.RData\", \"../output/enhNo_intNo\")\n",
    "else:\n",
    "    if intCutOff == \"No\":\n",
    "        run_SVM(paste0(\"../input/enh\",enhCutOff,\"_intNo/corces2016-snap-full_enh\",enhCutOff,\".rds\"),paste0(\"../input/enh\",enhCutOff,\"_intNo/buenrostro2018-snap-full_enh\",enhCutOff,\".rds\"), \"../input/metadata_corces2016_sorted.tsv\",\"../input/metadata_buenrostro2018_sorted.tsv\", \"../tmp/CV_folds_corces2016train_buenrostro2018-LMPPtest.RData\", paste0(\"../output/enh\",enhCutOff,\"_intNo\"))\n",
    "    else:\n",
    "        run_SVM(paste0(\"../input/enh\",enhCutOff,\"_int\",intCutOff,\"/corces2016-snap-full_enh\",enhCutOff,\"_int\",intCutOff,\".rds\"),paste0(\"../input/enh\",enhCutOff,\"_int\",intCutOff,\"/buenrostro2018-snap-full_enh\",enhCutOff,\"_int\",intCutOff,\".rds\"), \"../input/metadata_corces2016_sorted.tsv\",\"../input/metadata_buenrostro2018_sorted.tsv\", \"../tmp/CV_folds_corces2016train_buenrostro2018-LMPPtest.RData\", paste0(\"../output/enh\",enhCutOff,\"_int\",intCutOff))\n"
   ]
  },
  {
   "cell_type": "code",
   "execution_count": null,
   "metadata": {
    "ExecuteTime": {
     "end_time": "2020-06-10T03:28:39.459019Z",
     "start_time": "2020-06-10T03:28:03.448Z"
    }
   },
   "outputs": [],
   "source": [
    "enhCutOff=0.1\n",
    "intCutOff=0.5\n",
    "\n",
    "if enhCutOff == \"No\":\n",
    "    if intCutOff == \"No\":\n",
    "        run_SVM(\"../input/enhNo_intNo/corces2016-snap-full.rds\",\"../input/enhNo_intNo/buenrostro2018-snap-full.rds\", \"../input/metadata_corces2016_sorted.tsv\",\"../input/metadata_buenrostro2018_sorted.tsv\", \"../tmp/CV_folds_corces2016train_buenrostro2018-LMPPtest.RData\", \"../output/enhNo_intNo\")\n",
    "else:\n",
    "    if intCutOff == \"No\":\n",
    "        run_SVM(paste0(\"../input/enh\",enhCutOff,\"_intNo/corces2016-snap-full_enh\",enhCutOff,\".rds\"),paste0(\"../input/enh\",enhCutOff,\"_intNo/buenrostro2018-snap-full_enh\",enhCutOff,\".rds\"), \"../input/metadata_corces2016_sorted.tsv\",\"../input/metadata_buenrostro2018_sorted.tsv\", \"../tmp/CV_folds_corces2016train_buenrostro2018-LMPPtest.RData\", paste0(\"../output/enh\",enhCutOff,\"_intNo\"))\n",
    "    else:\n",
    "        run_SVM(paste0(\"../input/enh\",enhCutOff,\"_int\",intCutOff,\"/corces2016-snap-full_enh\",enhCutOff,\"_int\",intCutOff,\".rds\"),paste0(\"../input/enh\",enhCutOff,\"_int\",intCutOff,\"/buenrostro2018-snap-full_enh\",enhCutOff,\"_int\",intCutOff,\".rds\"), \"../input/metadata_corces2016_sorted.tsv\",\"../input/metadata_buenrostro2018_sorted.tsv\", \"../tmp/CV_folds_corces2016train_buenrostro2018-LMPPtest.RData\", paste0(\"../output/enh\",enhCutOff,\"_int\",intCutOff))\n"
   ]
  },
  {
   "cell_type": "code",
   "execution_count": null,
   "metadata": {
    "ExecuteTime": {
     "end_time": "2020-06-10T03:28:39.469305Z",
     "start_time": "2020-06-10T03:28:06.361Z"
    }
   },
   "outputs": [],
   "source": [
    "enhCutOff=0.1\n",
    "intCutOff=0.25\n",
    "\n",
    "if enhCutOff == \"No\":\n",
    "    if intCutOff == \"No\":\n",
    "        run_SVM(\"../input/enhNo_intNo/corces2016-snap-full.rds\",\"../input/enhNo_intNo/buenrostro2018-snap-full.rds\", \"../input/metadata_corces2016_sorted.tsv\",\"../input/metadata_buenrostro2018_sorted.tsv\", \"../tmp/CV_folds_corces2016train_buenrostro2018-LMPPtest.RData\", \"../output/enhNo_intNo\")\n",
    "else:\n",
    "    if intCutOff == \"No\":\n",
    "        run_SVM(paste0(\"../input/enh\",enhCutOff,\"_intNo/corces2016-snap-full_enh\",enhCutOff,\".rds\"),paste0(\"../input/enh\",enhCutOff,\"_intNo/buenrostro2018-snap-full_enh\",enhCutOff,\".rds\"), \"../input/metadata_corces2016_sorted.tsv\",\"../input/metadata_buenrostro2018_sorted.tsv\", \"../tmp/CV_folds_corces2016train_buenrostro2018-LMPPtest.RData\", paste0(\"../output/enh\",enhCutOff,\"_intNo\"))\n",
    "    else:\n",
    "        run_SVM(paste0(\"../input/enh\",enhCutOff,\"_int\",intCutOff,\"/corces2016-snap-full_enh\",enhCutOff,\"_int\",intCutOff,\".rds\"),paste0(\"../input/enh\",enhCutOff,\"_int\",intCutOff,\"/buenrostro2018-snap-full_enh\",enhCutOff,\"_int\",intCutOff,\".rds\"), \"../input/metadata_corces2016_sorted.tsv\",\"../input/metadata_buenrostro2018_sorted.tsv\", \"../tmp/CV_folds_corces2016train_buenrostro2018-LMPPtest.RData\", paste0(\"../output/enh\",enhCutOff,\"_int\",intCutOff))\n"
   ]
  },
  {
   "cell_type": "code",
   "execution_count": null,
   "metadata": {},
   "outputs": [],
   "source": []
  }
 ],
 "metadata": {
  "kernelspec": {
   "display_name": "Python [conda env:ATACseq_SnapATAC]",
   "language": "python",
   "name": "conda-env-ATACseq_SnapATAC-py"
  },
  "language_info": {
   "codemirror_mode": {
    "name": "ipython",
    "version": 3
   },
   "file_extension": ".py",
   "mimetype": "text/x-python",
   "name": "python",
   "nbconvert_exporter": "python",
   "pygments_lexer": "ipython3",
   "version": "3.8.2"
  }
 },
 "nbformat": 4,
 "nbformat_minor": 4
}
